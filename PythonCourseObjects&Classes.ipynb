{
 "cells": [
  {
   "cell_type": "markdown",
   "id": "a43f7470-943e-4b97-a8e3-86ab1947e87b",
   "metadata": {},
   "source": [
    "# <span style = color:red> Object and Classes PROJECT TASK </span>"
   ]
  },
  {
   "cell_type": "code",
   "execution_count": 8,
   "id": "8c58a604-c42a-40c9-a5c3-e5d0483eb916",
   "metadata": {},
   "outputs": [],
   "source": [
    "# Step 1: Define a string\n",
    "string1 = \"Lorem ipsum dolor! diam amet, consetetur Lorem magna. sed diam nonumy eirmod tempor. diam et labore? et diam magna. et diam amet.\"\n"
   ]
  },
  {
   "cell_type": "code",
   "execution_count": 10,
   "id": "64d8ab02-794e-4fed-98af-a751ee2f581f",
   "metadata": {},
   "outputs": [
    {
     "name": "stdout",
     "output_type": "stream",
     "text": [
      "Lorem ipsum dolor! diam amet, consetetur Lorem magna. sed diam nonumy eirmod tempor. diam et labore? et diam magna. et diam amet.\n"
     ]
    }
   ],
   "source": [
    "class TextAnalyzer:\n",
    "    def __init__(self, text):\n",
    "        self.text = text  # Metni sınıf özelliği olarak saklar\n",
    "\n",
    "# Kullanım örneği\n",
    "string1 = \"Lorem ipsum dolor! diam amet, consetetur Lorem magna. sed diam nonumy eirmod tempor. diam et labore? et diam magna. et diam amet.\"\n",
    "analyzer = TextAnalyzer(string1)\n",
    "\n",
    "# Sınıfın özelliğini kontrol etmek için\n",
    "print(analyzer.text)\n"
   ]
  },
  {
   "cell_type": "code",
   "execution_count": 12,
   "id": "8e7cc890-510b-47cf-a690-09a82e3c7ae6",
   "metadata": {},
   "outputs": [
    {
     "name": "stdout",
     "output_type": "stream",
     "text": [
      "lorem ipsum dolor diam amet consetetur lorem magna sed diam nonumy eirmod tempor diam et labore et diam magna et diam amet\n"
     ]
    }
   ],
   "source": [
    "# STEP 2\n",
    "# Converts it entirely to lowercase.\n",
    "# Removes punctuation marks.\n",
    "\n",
    "class TextAnalyzer(object):\n",
    "    def __init__(self, text):\n",
    "        # Metni küçük harflere dönüştür\n",
    "        text = text.lower()\n",
    "        \n",
    "        # Noktalama işaretlerini kaldır\n",
    "        text = text.replace('.', '').replace('!', '').replace(',', '').replace('?', '')\n",
    "        \n",
    "        # Formatlanmış metni örnek değişkeni olarak sakla\n",
    "        self.fmtText = text\n",
    "\n",
    "# Kullanım örneği\n",
    "string1 = \"Lorem ipsum dolor! diam amet, consetetur Lorem magna. sed diam nonumy eirmod tempor. diam et labore? et diam magna. et diam amet.\"\n",
    "analyzer = TextAnalyzer(string1)\n",
    "\n",
    "# Formatlanmış metni kontrol et\n",
    "print(analyzer.fmtText)\n"
   ]
  },
  {
   "cell_type": "code",
   "execution_count": 26,
   "id": "7bf92146-d560-471b-bafa-d713be7e3cdc",
   "metadata": {},
   "outputs": [
    {
     "name": "stdout",
     "output_type": "stream",
     "text": [
      "{'lorem': 2, 'ipsum': 1, 'dolor': 1, 'diam': 5, 'amet': 2, 'consetetur': 1, 'magna': 2, 'sed': 1, 'nonumy': 1, 'eirmod': 1, 'tempor': 1, 'et': 3, 'labore': 1}\n"
     ]
    }
   ],
   "source": [
    "# STEP 3\n",
    "#split() Method: Splits the fmtText string into words.\n",
    "\n",
    "# Dictionary Creation: Creates an empty dictionary named word_freq to store the frequencies of words.\n",
    "\n",
    "# Calculating Word Frequencies:\n",
    "\n",
    "# if word in word_freq: If the word is in the dictionary, it increments its frequency.\n",
    "# else: If the word is not in the dictionary, it adds a new entry with a frequency of 1.\n",
    "# return word_freq: Returns the dictionary containing the word frequencies.\n",
    "\n",
    "# This method can be used to analyze the text and determine how frequently each word is used.\n",
    "\n",
    "\n",
    "\n",
    "class TextAnalyzer(object):\n",
    "    def __init__(self, text):\n",
    "        # Metni küçük harflere dönüştür\n",
    "        text = text.lower()\n",
    "        \n",
    "        # Noktalama işaretlerini kaldır\n",
    "        text = text.replace('.', '').replace('!', '').replace(',', '').replace('?', '')\n",
    "        \n",
    "        # Formatlanmış metni örnek değişkeni olarak sakla\n",
    "        self.fmtText = text\n",
    "\n",
    "    def freqAll(self):\n",
    "        # Metni kelimelere ayır\n",
    "        words = self.fmtText.split()\n",
    "        \n",
    "        # Kelime frekansını saklayacak boş bir sözlük oluştur\n",
    "        word_freq = {}\n",
    "        \n",
    "        # Her kelimenin frekansını hesapla\n",
    "        for word in words:\n",
    "            if word in word_freq:\n",
    "                word_freq[word] += 1  # Kelime varsa sayısını artır\n",
    "            else:\n",
    "                word_freq[word] = 1   # Kelime yoksa, yeni bir giriş ekle\n",
    "        \n",
    "        return word_freq\n",
    "\n",
    "# Kullanım örneği\n",
    "string1 = \"Lorem ipsum dolor! diam amet, consetetur Lorem magna. sed diam nonumy eirmod tempor. diam et labore? et diam magna. et diam amet.\"\n",
    "analyzer = TextAnalyzer(string1)\n",
    "\n",
    "# Kelime frekanslarını hesapla\n",
    "word_frequencies = analyzer.freqAll()\n",
    "\n",
    "# Sonuçları kontrol et\n",
    "print(word_frequencies)\n"
   ]
  },
  {
   "cell_type": "code",
   "execution_count": 43,
   "id": "d698470b-2320-4b0a-ad11-a473fc2f8873",
   "metadata": {},
   "outputs": [
    {
     "name": "stdout",
     "output_type": "stream",
     "text": [
      "frequency of 'diam': 5\n"
     ]
    }
   ],
   "source": [
    "# STEP 4\n",
    "#Explanation:\n",
    "#freqOf Method:\n",
    "\n",
    "#self.freqAll(): Calls the freqAll method to get the frequency dictionary.\n",
    "#word_freq.get(word, 0): Retrieves the count of the specified word from the dictionary. If the word is not found, it returns 0.\n",
    "\n",
    "#Example Usage:\n",
    "#Creates an instance of TextAnalyzer with a sample text.\n",
    "#Calls freqOf('diam') to get the frequency of the word \"diam\".\n",
    "#Prints the frequency of the word \"diam\".\n",
    "#This implementation allows you to determine the frequency of a specific word in the provided text.\n",
    "\n",
    "class TextAnalyzer(object):\n",
    "    \n",
    "    def __init__(self, text):\n",
    "        # Noktalama işaretlerini kaldır\n",
    "        formattedText = text.replace('.', '').replace('!', '').replace('?', '').replace(',', '')\n",
    "         \n",
    "        # Metni küçük harfe dönüştür\n",
    "        formattedText = formattedText.lower()\n",
    "        \n",
    "        # Formatlanmış metni örnek değişkeni olarak sakla\n",
    "        self.fmtText = formattedText\n",
    "        \n",
    "    def freqAll(self):\n",
    "        # Metni kelimelere ayır\n",
    "        wordList = self.fmtText.split()\n",
    "        \n",
    "        # Kelime frekanslarını saklamak için bir sözlük oluştur\n",
    "        freqMap = {}\n",
    "        for word in wordList:\n",
    "            if word in freqMap:\n",
    "                freqMap[word] += 1  # Kelime varsa frekansını artır\n",
    "            else:\n",
    "                freqMap[word] = 1   # Kelime yoksa, yeni bir giriş ekle\n",
    "        \n",
    "        return freqMap\n",
    "    \n",
    "    def freqOf(self, word):\n",
    "        # freqAll metodundan kelime frekanslarını al\n",
    "        word_freq = self.freqAll()\n",
    "        \n",
    "        # Belirtilen kelimenin frekansını döndür, bulunamazsa 0 döndür\n",
    "        return word_freq.get(word, 0)\n",
    "\n",
    "# Kullanım örneği\n",
    "string1 = \"Lorem ipsum dolor! diam amet, consetetur Lorem magna. sed diam nonumy eirmod tempor. diam et labore? et diam magna. et diam amet.\"\n",
    "analyzer = TextAnalyzer(string1)\n",
    "\n",
    "# 'diam' kelimesinin frekansını al\n",
    "word_frequency = analyzer.freqOf('diam')\n",
    "\n",
    "print(\"frequency of 'diam':\", word_frequency)\n"
   ]
  },
  {
   "cell_type": "markdown",
   "id": "493bb836-39ee-4222-8d25-d7ed7c5a0dbf",
   "metadata": {},
   "source": [
    "#### 1.Create an instance of TextAnalyzer class\n",
    "#### analyzed = TextAnalyzer(givenstring)\n",
    "\n",
    "### 2.Call the function that converts the data into lowercase\n",
    "#### print(\"Formatted Text:\", analyzed.fmtText)\n",
    "\n",
    "### 3.Call the function that counts the frequency of all unique words from the data\n",
    "#### freqMap = analyzed.freqAll()\n",
    "#### print(freqMap)\n",
    "\n",
    "### 4.Call the function that counts the frequency of a specific word\n",
    "#### word = \"lorem\"\n",
    "#### frequency = analyzed.freqOf(word)\n",
    "#### print(\"The word\",word,\"appears\",frequency,\"times.\")"
   ]
  },
  {
   "cell_type": "code",
   "execution_count": null,
   "id": "dfff1526-a20b-450c-a77c-f0dc8771a09e",
   "metadata": {},
   "outputs": [],
   "source": []
  }
 ],
 "metadata": {
  "kernelspec": {
   "display_name": "Python 3 (ipykernel)",
   "language": "python",
   "name": "python3"
  },
  "language_info": {
   "codemirror_mode": {
    "name": "ipython",
    "version": 3
   },
   "file_extension": ".py",
   "mimetype": "text/x-python",
   "name": "python",
   "nbconvert_exporter": "python",
   "pygments_lexer": "ipython3",
   "version": "3.12.4"
  }
 },
 "nbformat": 4,
 "nbformat_minor": 5
}
